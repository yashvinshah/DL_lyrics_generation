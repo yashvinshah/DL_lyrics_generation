{
  "cells": [
    {
      "cell_type": "code",
      "execution_count": 1,
      "metadata": {
        "execution": {
          "iopub.execute_input": "2021-02-15T05:03:08.394280Z",
          "iopub.status.busy": "2021-02-15T05:03:08.393617Z",
          "iopub.status.idle": "2021-02-15T05:03:14.497689Z",
          "shell.execute_reply": "2021-02-15T05:03:14.496575Z"
        },
        "papermill": {
          "duration": 6.127615,
          "end_time": "2021-02-15T05:03:14.497902",
          "exception": false,
          "start_time": "2021-02-15T05:03:08.370287",
          "status": "completed"
        },
        "tags": [],
        "id": "rPDIoqykTfK7"
      },
      "outputs": [],
      "source": [
        "import pandas as pd\n",
        "import numpy as np\n",
        "import seaborn as sns\n",
        "import matplotlib.pyplot as plt\n",
        "from wordcloud import WordCloud, STOPWORDS, ImageColorGenerator\n",
        "import string, os\n",
        "import tensorflow as tf\n",
        "\n",
        "# keras module for building LSTM\n",
        "from keras.preprocessing.sequence import pad_sequences\n",
        "from tensorflow.keras.layers import Embedding, Dropout, LSTM, Dense, Bidirectional\n",
        "from keras.preprocessing.text import Tokenizer\n",
        "from keras.callbacks import EarlyStopping\n",
        "from keras.models import Sequential\n",
        "\n",
        "import matplotlib.pyplot as plt\n",
        "import seaborn as sns"
      ]
    },
    {
      "cell_type": "code",
      "source": [
        "from google.colab import drive\n",
        "drive.mount('/content/drive')"
      ],
      "metadata": {
        "id": "p7w1JsFHV0Ik",
        "colab": {
          "base_uri": "https://localhost:8080/"
        },
        "outputId": "0d722d52-1408-49a9-ab40-1586e3ab4a78"
      },
      "execution_count": 2,
      "outputs": [
        {
          "output_type": "stream",
          "name": "stdout",
          "text": [
            "Mounted at /content/drive\n"
          ]
        }
      ]
    },
    {
      "cell_type": "code",
      "execution_count": 3,
      "metadata": {
        "execution": {
          "iopub.execute_input": "2021-02-15T05:03:14.543246Z",
          "iopub.status.busy": "2021-02-15T05:03:14.542724Z",
          "iopub.status.idle": "2021-02-15T05:03:19.388115Z",
          "shell.execute_reply": "2021-02-15T05:03:19.387055Z"
        },
        "papermill": {
          "duration": 4.871051,
          "end_time": "2021-02-15T05:03:19.388262",
          "exception": false,
          "start_time": "2021-02-15T05:03:14.517211",
          "status": "completed"
        },
        "tags": [],
        "id": "mc6sOsAETfK8"
      },
      "outputs": [],
      "source": [
        "# csv file\n",
        "df = pd.read_csv('/content/drive/MyDrive/DL_mp/data/lyrics-data.csv')"
      ]
    },
    {
      "cell_type": "code",
      "execution_count": 4,
      "metadata": {
        "execution": {
          "iopub.execute_input": "2021-02-15T05:03:19.442805Z",
          "iopub.status.busy": "2021-02-15T05:03:19.442028Z",
          "iopub.status.idle": "2021-02-15T05:03:19.450835Z",
          "shell.execute_reply": "2021-02-15T05:03:19.451219Z"
        },
        "papermill": {
          "duration": 0.044865,
          "end_time": "2021-02-15T05:03:19.451354",
          "exception": false,
          "start_time": "2021-02-15T05:03:19.406489",
          "status": "completed"
        },
        "tags": [],
        "id": "Hv3FnUGUTfK8",
        "colab": {
          "base_uri": "https://localhost:8080/",
          "height": 206
        },
        "outputId": "6bca1299-337a-48fb-b6e2-9f779bb9ad88"
      },
      "outputs": [
        {
          "output_type": "execute_result",
          "data": {
            "text/plain": [
              "             ALink                            SName  \\\n",
              "0  /ivete-sangalo/                            Arerê   \n",
              "1  /ivete-sangalo/  Se Eu Não Te Amasse Tanto Assim   \n",
              "2  /ivete-sangalo/                      Céu da Boca   \n",
              "3  /ivete-sangalo/            Quando A Chuva Passar   \n",
              "4  /ivete-sangalo/                     Sorte Grande   \n",
              "\n",
              "                                               SLink  \\\n",
              "0                          /ivete-sangalo/arere.html   \n",
              "1  /ivete-sangalo/se-eu-nao-te-amasse-tanto-assim...   \n",
              "2                     /ivete-sangalo/chupa-toda.html   \n",
              "3          /ivete-sangalo/quando-a-chuva-passar.html   \n",
              "4                   /ivete-sangalo/sorte-grande.html   \n",
              "\n",
              "                                               Lyric language  \n",
              "0  Tudo o que eu quero nessa vida,\\nToda vida, é\\...       pt  \n",
              "1  Meu coração\\nSem direção\\nVoando só por voar\\n...       pt  \n",
              "2  É de babaixá!\\nÉ de balacubaca!\\nÉ de babaixá!...       pt  \n",
              "3  Quando a chuva passar\\n\\nPra quê falar\\nSe voc...       pt  \n",
              "4  A minha sorte grande foi você cair do céu\\nMin...       pt  "
            ],
            "text/html": [
              "\n",
              "  <div id=\"df-ad2c2caf-3537-4b89-b23c-136f53a10efc\" class=\"colab-df-container\">\n",
              "    <div>\n",
              "<style scoped>\n",
              "    .dataframe tbody tr th:only-of-type {\n",
              "        vertical-align: middle;\n",
              "    }\n",
              "\n",
              "    .dataframe tbody tr th {\n",
              "        vertical-align: top;\n",
              "    }\n",
              "\n",
              "    .dataframe thead th {\n",
              "        text-align: right;\n",
              "    }\n",
              "</style>\n",
              "<table border=\"1\" class=\"dataframe\">\n",
              "  <thead>\n",
              "    <tr style=\"text-align: right;\">\n",
              "      <th></th>\n",
              "      <th>ALink</th>\n",
              "      <th>SName</th>\n",
              "      <th>SLink</th>\n",
              "      <th>Lyric</th>\n",
              "      <th>language</th>\n",
              "    </tr>\n",
              "  </thead>\n",
              "  <tbody>\n",
              "    <tr>\n",
              "      <th>0</th>\n",
              "      <td>/ivete-sangalo/</td>\n",
              "      <td>Arerê</td>\n",
              "      <td>/ivete-sangalo/arere.html</td>\n",
              "      <td>Tudo o que eu quero nessa vida,\\nToda vida, é\\...</td>\n",
              "      <td>pt</td>\n",
              "    </tr>\n",
              "    <tr>\n",
              "      <th>1</th>\n",
              "      <td>/ivete-sangalo/</td>\n",
              "      <td>Se Eu Não Te Amasse Tanto Assim</td>\n",
              "      <td>/ivete-sangalo/se-eu-nao-te-amasse-tanto-assim...</td>\n",
              "      <td>Meu coração\\nSem direção\\nVoando só por voar\\n...</td>\n",
              "      <td>pt</td>\n",
              "    </tr>\n",
              "    <tr>\n",
              "      <th>2</th>\n",
              "      <td>/ivete-sangalo/</td>\n",
              "      <td>Céu da Boca</td>\n",
              "      <td>/ivete-sangalo/chupa-toda.html</td>\n",
              "      <td>É de babaixá!\\nÉ de balacubaca!\\nÉ de babaixá!...</td>\n",
              "      <td>pt</td>\n",
              "    </tr>\n",
              "    <tr>\n",
              "      <th>3</th>\n",
              "      <td>/ivete-sangalo/</td>\n",
              "      <td>Quando A Chuva Passar</td>\n",
              "      <td>/ivete-sangalo/quando-a-chuva-passar.html</td>\n",
              "      <td>Quando a chuva passar\\n\\nPra quê falar\\nSe voc...</td>\n",
              "      <td>pt</td>\n",
              "    </tr>\n",
              "    <tr>\n",
              "      <th>4</th>\n",
              "      <td>/ivete-sangalo/</td>\n",
              "      <td>Sorte Grande</td>\n",
              "      <td>/ivete-sangalo/sorte-grande.html</td>\n",
              "      <td>A minha sorte grande foi você cair do céu\\nMin...</td>\n",
              "      <td>pt</td>\n",
              "    </tr>\n",
              "  </tbody>\n",
              "</table>\n",
              "</div>\n",
              "    <div class=\"colab-df-buttons\">\n",
              "\n",
              "  <div class=\"colab-df-container\">\n",
              "    <button class=\"colab-df-convert\" onclick=\"convertToInteractive('df-ad2c2caf-3537-4b89-b23c-136f53a10efc')\"\n",
              "            title=\"Convert this dataframe to an interactive table.\"\n",
              "            style=\"display:none;\">\n",
              "\n",
              "  <svg xmlns=\"http://www.w3.org/2000/svg\" height=\"24px\" viewBox=\"0 -960 960 960\">\n",
              "    <path d=\"M120-120v-720h720v720H120Zm60-500h600v-160H180v160Zm220 220h160v-160H400v160Zm0 220h160v-160H400v160ZM180-400h160v-160H180v160Zm440 0h160v-160H620v160ZM180-180h160v-160H180v160Zm440 0h160v-160H620v160Z\"/>\n",
              "  </svg>\n",
              "    </button>\n",
              "\n",
              "  <style>\n",
              "    .colab-df-container {\n",
              "      display:flex;\n",
              "      gap: 12px;\n",
              "    }\n",
              "\n",
              "    .colab-df-convert {\n",
              "      background-color: #E8F0FE;\n",
              "      border: none;\n",
              "      border-radius: 50%;\n",
              "      cursor: pointer;\n",
              "      display: none;\n",
              "      fill: #1967D2;\n",
              "      height: 32px;\n",
              "      padding: 0 0 0 0;\n",
              "      width: 32px;\n",
              "    }\n",
              "\n",
              "    .colab-df-convert:hover {\n",
              "      background-color: #E2EBFA;\n",
              "      box-shadow: 0px 1px 2px rgba(60, 64, 67, 0.3), 0px 1px 3px 1px rgba(60, 64, 67, 0.15);\n",
              "      fill: #174EA6;\n",
              "    }\n",
              "\n",
              "    .colab-df-buttons div {\n",
              "      margin-bottom: 4px;\n",
              "    }\n",
              "\n",
              "    [theme=dark] .colab-df-convert {\n",
              "      background-color: #3B4455;\n",
              "      fill: #D2E3FC;\n",
              "    }\n",
              "\n",
              "    [theme=dark] .colab-df-convert:hover {\n",
              "      background-color: #434B5C;\n",
              "      box-shadow: 0px 1px 3px 1px rgba(0, 0, 0, 0.15);\n",
              "      filter: drop-shadow(0px 1px 2px rgba(0, 0, 0, 0.3));\n",
              "      fill: #FFFFFF;\n",
              "    }\n",
              "  </style>\n",
              "\n",
              "    <script>\n",
              "      const buttonEl =\n",
              "        document.querySelector('#df-ad2c2caf-3537-4b89-b23c-136f53a10efc button.colab-df-convert');\n",
              "      buttonEl.style.display =\n",
              "        google.colab.kernel.accessAllowed ? 'block' : 'none';\n",
              "\n",
              "      async function convertToInteractive(key) {\n",
              "        const element = document.querySelector('#df-ad2c2caf-3537-4b89-b23c-136f53a10efc');\n",
              "        const dataTable =\n",
              "          await google.colab.kernel.invokeFunction('convertToInteractive',\n",
              "                                                    [key], {});\n",
              "        if (!dataTable) return;\n",
              "\n",
              "        const docLinkHtml = 'Like what you see? Visit the ' +\n",
              "          '<a target=\"_blank\" href=https://colab.research.google.com/notebooks/data_table.ipynb>data table notebook</a>'\n",
              "          + ' to learn more about interactive tables.';\n",
              "        element.innerHTML = '';\n",
              "        dataTable['output_type'] = 'display_data';\n",
              "        await google.colab.output.renderOutput(dataTable, element);\n",
              "        const docLink = document.createElement('div');\n",
              "        docLink.innerHTML = docLinkHtml;\n",
              "        element.appendChild(docLink);\n",
              "      }\n",
              "    </script>\n",
              "  </div>\n",
              "\n",
              "\n",
              "<div id=\"df-3c917e50-613f-42c6-84f8-cd7cebeb86d2\">\n",
              "  <button class=\"colab-df-quickchart\" onclick=\"quickchart('df-3c917e50-613f-42c6-84f8-cd7cebeb86d2')\"\n",
              "            title=\"Suggest charts\"\n",
              "            style=\"display:none;\">\n",
              "\n",
              "<svg xmlns=\"http://www.w3.org/2000/svg\" height=\"24px\"viewBox=\"0 0 24 24\"\n",
              "     width=\"24px\">\n",
              "    <g>\n",
              "        <path d=\"M19 3H5c-1.1 0-2 .9-2 2v14c0 1.1.9 2 2 2h14c1.1 0 2-.9 2-2V5c0-1.1-.9-2-2-2zM9 17H7v-7h2v7zm4 0h-2V7h2v10zm4 0h-2v-4h2v4z\"/>\n",
              "    </g>\n",
              "</svg>\n",
              "  </button>\n",
              "\n",
              "<style>\n",
              "  .colab-df-quickchart {\n",
              "      --bg-color: #E8F0FE;\n",
              "      --fill-color: #1967D2;\n",
              "      --hover-bg-color: #E2EBFA;\n",
              "      --hover-fill-color: #174EA6;\n",
              "      --disabled-fill-color: #AAA;\n",
              "      --disabled-bg-color: #DDD;\n",
              "  }\n",
              "\n",
              "  [theme=dark] .colab-df-quickchart {\n",
              "      --bg-color: #3B4455;\n",
              "      --fill-color: #D2E3FC;\n",
              "      --hover-bg-color: #434B5C;\n",
              "      --hover-fill-color: #FFFFFF;\n",
              "      --disabled-bg-color: #3B4455;\n",
              "      --disabled-fill-color: #666;\n",
              "  }\n",
              "\n",
              "  .colab-df-quickchart {\n",
              "    background-color: var(--bg-color);\n",
              "    border: none;\n",
              "    border-radius: 50%;\n",
              "    cursor: pointer;\n",
              "    display: none;\n",
              "    fill: var(--fill-color);\n",
              "    height: 32px;\n",
              "    padding: 0;\n",
              "    width: 32px;\n",
              "  }\n",
              "\n",
              "  .colab-df-quickchart:hover {\n",
              "    background-color: var(--hover-bg-color);\n",
              "    box-shadow: 0 1px 2px rgba(60, 64, 67, 0.3), 0 1px 3px 1px rgba(60, 64, 67, 0.15);\n",
              "    fill: var(--button-hover-fill-color);\n",
              "  }\n",
              "\n",
              "  .colab-df-quickchart-complete:disabled,\n",
              "  .colab-df-quickchart-complete:disabled:hover {\n",
              "    background-color: var(--disabled-bg-color);\n",
              "    fill: var(--disabled-fill-color);\n",
              "    box-shadow: none;\n",
              "  }\n",
              "\n",
              "  .colab-df-spinner {\n",
              "    border: 2px solid var(--fill-color);\n",
              "    border-color: transparent;\n",
              "    border-bottom-color: var(--fill-color);\n",
              "    animation:\n",
              "      spin 1s steps(1) infinite;\n",
              "  }\n",
              "\n",
              "  @keyframes spin {\n",
              "    0% {\n",
              "      border-color: transparent;\n",
              "      border-bottom-color: var(--fill-color);\n",
              "      border-left-color: var(--fill-color);\n",
              "    }\n",
              "    20% {\n",
              "      border-color: transparent;\n",
              "      border-left-color: var(--fill-color);\n",
              "      border-top-color: var(--fill-color);\n",
              "    }\n",
              "    30% {\n",
              "      border-color: transparent;\n",
              "      border-left-color: var(--fill-color);\n",
              "      border-top-color: var(--fill-color);\n",
              "      border-right-color: var(--fill-color);\n",
              "    }\n",
              "    40% {\n",
              "      border-color: transparent;\n",
              "      border-right-color: var(--fill-color);\n",
              "      border-top-color: var(--fill-color);\n",
              "    }\n",
              "    60% {\n",
              "      border-color: transparent;\n",
              "      border-right-color: var(--fill-color);\n",
              "    }\n",
              "    80% {\n",
              "      border-color: transparent;\n",
              "      border-right-color: var(--fill-color);\n",
              "      border-bottom-color: var(--fill-color);\n",
              "    }\n",
              "    90% {\n",
              "      border-color: transparent;\n",
              "      border-bottom-color: var(--fill-color);\n",
              "    }\n",
              "  }\n",
              "</style>\n",
              "\n",
              "  <script>\n",
              "    async function quickchart(key) {\n",
              "      const quickchartButtonEl =\n",
              "        document.querySelector('#' + key + ' button');\n",
              "      quickchartButtonEl.disabled = true;  // To prevent multiple clicks.\n",
              "      quickchartButtonEl.classList.add('colab-df-spinner');\n",
              "      try {\n",
              "        const charts = await google.colab.kernel.invokeFunction(\n",
              "            'suggestCharts', [key], {});\n",
              "      } catch (error) {\n",
              "        console.error('Error during call to suggestCharts:', error);\n",
              "      }\n",
              "      quickchartButtonEl.classList.remove('colab-df-spinner');\n",
              "      quickchartButtonEl.classList.add('colab-df-quickchart-complete');\n",
              "    }\n",
              "    (() => {\n",
              "      let quickchartButtonEl =\n",
              "        document.querySelector('#df-3c917e50-613f-42c6-84f8-cd7cebeb86d2 button');\n",
              "      quickchartButtonEl.style.display =\n",
              "        google.colab.kernel.accessAllowed ? 'block' : 'none';\n",
              "    })();\n",
              "  </script>\n",
              "</div>\n",
              "\n",
              "    </div>\n",
              "  </div>\n"
            ],
            "application/vnd.google.colaboratory.intrinsic+json": {
              "type": "dataframe",
              "variable_name": "df"
            }
          },
          "metadata": {},
          "execution_count": 4
        }
      ],
      "source": [
        "# first few rows\n",
        "df.head()"
      ]
    },
    {
      "cell_type": "code",
      "execution_count": 5,
      "metadata": {
        "execution": {
          "iopub.execute_input": "2021-02-15T05:03:19.538180Z",
          "iopub.status.busy": "2021-02-15T05:03:19.536639Z",
          "iopub.status.idle": "2021-02-15T05:03:19.539052Z",
          "shell.execute_reply": "2021-02-15T05:03:19.539471Z"
        },
        "papermill": {
          "duration": 0.032716,
          "end_time": "2021-02-15T05:03:19.539594",
          "exception": false,
          "start_time": "2021-02-15T05:03:19.506878",
          "status": "completed"
        },
        "tags": [],
        "id": "ouvdRAJrTfK8"
      },
      "outputs": [],
      "source": [
        "# drop\n",
        "df.drop(['ALink','SName','SLink'],axis=1,inplace=True)"
      ]
    },
    {
      "cell_type": "code",
      "execution_count": 6,
      "metadata": {
        "execution": {
          "iopub.execute_input": "2021-02-15T05:03:19.580226Z",
          "iopub.status.busy": "2021-02-15T05:03:19.579728Z",
          "iopub.status.idle": "2021-02-15T05:03:19.584872Z",
          "shell.execute_reply": "2021-02-15T05:03:19.585249Z"
        },
        "papermill": {
          "duration": 0.027076,
          "end_time": "2021-02-15T05:03:19.585371",
          "exception": false,
          "start_time": "2021-02-15T05:03:19.558295",
          "status": "completed"
        },
        "tags": [],
        "id": "YrMrecJZTfK8",
        "colab": {
          "base_uri": "https://localhost:8080/"
        },
        "outputId": "35a44189-a0d1-42a2-a576-45015d82fc6e"
      },
      "outputs": [
        {
          "output_type": "execute_result",
          "data": {
            "text/plain": [
              "(379931, 2)"
            ]
          },
          "metadata": {},
          "execution_count": 6
        }
      ],
      "source": [
        "# shape\n",
        "df.shape"
      ]
    },
    {
      "cell_type": "code",
      "execution_count": 7,
      "metadata": {
        "execution": {
          "iopub.execute_input": "2021-02-15T05:03:19.780993Z",
          "iopub.status.busy": "2021-02-15T05:03:19.780217Z",
          "iopub.status.idle": "2021-02-15T05:03:19.791676Z",
          "shell.execute_reply": "2021-02-15T05:03:19.791247Z"
        },
        "papermill": {
          "duration": 0.059559,
          "end_time": "2021-02-15T05:03:19.791788",
          "exception": false,
          "start_time": "2021-02-15T05:03:19.732229",
          "status": "completed"
        },
        "tags": [],
        "id": "t4J6UxZ9TfK9"
      },
      "outputs": [],
      "source": [
        "# take only english songs\n",
        "# df = df[df['Idiom']=='ENGLISH']"
      ]
    },
    {
      "cell_type": "code",
      "execution_count": 8,
      "metadata": {
        "execution": {
          "iopub.execute_input": "2021-02-15T05:03:19.875520Z",
          "iopub.status.busy": "2021-02-15T05:03:19.873879Z",
          "iopub.status.idle": "2021-02-15T05:03:19.876125Z",
          "shell.execute_reply": "2021-02-15T05:03:19.876563Z"
        },
        "papermill": {
          "duration": 0.025571,
          "end_time": "2021-02-15T05:03:19.876684",
          "exception": false,
          "start_time": "2021-02-15T05:03:19.851113",
          "status": "completed"
        },
        "tags": [],
        "id": "D_TzFfnxTfK9"
      },
      "outputs": [],
      "source": [
        "# take first 700 rows\n",
        "df = df[:700]"
      ]
    },
    {
      "cell_type": "code",
      "execution_count": 9,
      "metadata": {
        "execution": {
          "iopub.execute_input": "2021-02-15T05:03:19.920513Z",
          "iopub.status.busy": "2021-02-15T05:03:19.919914Z",
          "iopub.status.idle": "2021-02-15T05:03:19.923061Z",
          "shell.execute_reply": "2021-02-15T05:03:19.923465Z"
        },
        "papermill": {
          "duration": 0.027411,
          "end_time": "2021-02-15T05:03:19.923580",
          "exception": false,
          "start_time": "2021-02-15T05:03:19.896169",
          "status": "completed"
        },
        "tags": [],
        "id": "ihTFc_yvTfK9",
        "colab": {
          "base_uri": "https://localhost:8080/"
        },
        "outputId": "3070030e-81a6-4376-e0b5-244a53a7fa33"
      },
      "outputs": [
        {
          "output_type": "execute_result",
          "data": {
            "text/plain": [
              "(700, 2)"
            ]
          },
          "metadata": {},
          "execution_count": 9
        }
      ],
      "source": [
        "# shape\n",
        "df.shape"
      ]
    },
    {
      "cell_type": "markdown",
      "metadata": {
        "papermill": {
          "duration": 0.019677,
          "end_time": "2021-02-15T05:03:19.963077",
          "exception": false,
          "start_time": "2021-02-15T05:03:19.943400",
          "status": "completed"
        },
        "tags": [],
        "id": "4dTWwwENTfK9"
      },
      "source": [
        "# Data Visualization"
      ]
    },
    {
      "cell_type": "code",
      "execution_count": 10,
      "metadata": {
        "execution": {
          "iopub.execute_input": "2021-02-15T05:03:20.022448Z",
          "iopub.status.busy": "2021-02-15T05:03:20.018623Z",
          "iopub.status.idle": "2021-02-15T05:03:20.025615Z",
          "shell.execute_reply": "2021-02-15T05:03:20.025153Z"
        },
        "papermill": {
          "duration": 0.042634,
          "end_time": "2021-02-15T05:03:20.025730",
          "exception": false,
          "start_time": "2021-02-15T05:03:19.983096",
          "status": "completed"
        },
        "tags": [],
        "id": "e860l-6QTfK9",
        "colab": {
          "base_uri": "https://localhost:8080/",
          "height": 206
        },
        "outputId": "2840992e-082f-4e19-dad1-852d78196c13"
      },
      "outputs": [
        {
          "output_type": "execute_result",
          "data": {
            "text/plain": [
              "                                               Lyric language  Number_of_words\n",
              "0  Tudo o que eu quero nessa vida,\\nToda vida, é\\...       pt               85\n",
              "1  Meu coração\\nSem direção\\nVoando só por voar\\n...       pt              140\n",
              "2  É de babaixá!\\nÉ de balacubaca!\\nÉ de babaixá!...       pt              122\n",
              "3  Quando a chuva passar\\n\\nPra quê falar\\nSe voc...       pt              158\n",
              "4  A minha sorte grande foi você cair do céu\\nMin...       pt              189"
            ],
            "text/html": [
              "\n",
              "  <div id=\"df-29a247b3-f421-4652-8972-d1d805e7f5a8\" class=\"colab-df-container\">\n",
              "    <div>\n",
              "<style scoped>\n",
              "    .dataframe tbody tr th:only-of-type {\n",
              "        vertical-align: middle;\n",
              "    }\n",
              "\n",
              "    .dataframe tbody tr th {\n",
              "        vertical-align: top;\n",
              "    }\n",
              "\n",
              "    .dataframe thead th {\n",
              "        text-align: right;\n",
              "    }\n",
              "</style>\n",
              "<table border=\"1\" class=\"dataframe\">\n",
              "  <thead>\n",
              "    <tr style=\"text-align: right;\">\n",
              "      <th></th>\n",
              "      <th>Lyric</th>\n",
              "      <th>language</th>\n",
              "      <th>Number_of_words</th>\n",
              "    </tr>\n",
              "  </thead>\n",
              "  <tbody>\n",
              "    <tr>\n",
              "      <th>0</th>\n",
              "      <td>Tudo o que eu quero nessa vida,\\nToda vida, é\\...</td>\n",
              "      <td>pt</td>\n",
              "      <td>85</td>\n",
              "    </tr>\n",
              "    <tr>\n",
              "      <th>1</th>\n",
              "      <td>Meu coração\\nSem direção\\nVoando só por voar\\n...</td>\n",
              "      <td>pt</td>\n",
              "      <td>140</td>\n",
              "    </tr>\n",
              "    <tr>\n",
              "      <th>2</th>\n",
              "      <td>É de babaixá!\\nÉ de balacubaca!\\nÉ de babaixá!...</td>\n",
              "      <td>pt</td>\n",
              "      <td>122</td>\n",
              "    </tr>\n",
              "    <tr>\n",
              "      <th>3</th>\n",
              "      <td>Quando a chuva passar\\n\\nPra quê falar\\nSe voc...</td>\n",
              "      <td>pt</td>\n",
              "      <td>158</td>\n",
              "    </tr>\n",
              "    <tr>\n",
              "      <th>4</th>\n",
              "      <td>A minha sorte grande foi você cair do céu\\nMin...</td>\n",
              "      <td>pt</td>\n",
              "      <td>189</td>\n",
              "    </tr>\n",
              "  </tbody>\n",
              "</table>\n",
              "</div>\n",
              "    <div class=\"colab-df-buttons\">\n",
              "\n",
              "  <div class=\"colab-df-container\">\n",
              "    <button class=\"colab-df-convert\" onclick=\"convertToInteractive('df-29a247b3-f421-4652-8972-d1d805e7f5a8')\"\n",
              "            title=\"Convert this dataframe to an interactive table.\"\n",
              "            style=\"display:none;\">\n",
              "\n",
              "  <svg xmlns=\"http://www.w3.org/2000/svg\" height=\"24px\" viewBox=\"0 -960 960 960\">\n",
              "    <path d=\"M120-120v-720h720v720H120Zm60-500h600v-160H180v160Zm220 220h160v-160H400v160Zm0 220h160v-160H400v160ZM180-400h160v-160H180v160Zm440 0h160v-160H620v160ZM180-180h160v-160H180v160Zm440 0h160v-160H620v160Z\"/>\n",
              "  </svg>\n",
              "    </button>\n",
              "\n",
              "  <style>\n",
              "    .colab-df-container {\n",
              "      display:flex;\n",
              "      gap: 12px;\n",
              "    }\n",
              "\n",
              "    .colab-df-convert {\n",
              "      background-color: #E8F0FE;\n",
              "      border: none;\n",
              "      border-radius: 50%;\n",
              "      cursor: pointer;\n",
              "      display: none;\n",
              "      fill: #1967D2;\n",
              "      height: 32px;\n",
              "      padding: 0 0 0 0;\n",
              "      width: 32px;\n",
              "    }\n",
              "\n",
              "    .colab-df-convert:hover {\n",
              "      background-color: #E2EBFA;\n",
              "      box-shadow: 0px 1px 2px rgba(60, 64, 67, 0.3), 0px 1px 3px 1px rgba(60, 64, 67, 0.15);\n",
              "      fill: #174EA6;\n",
              "    }\n",
              "\n",
              "    .colab-df-buttons div {\n",
              "      margin-bottom: 4px;\n",
              "    }\n",
              "\n",
              "    [theme=dark] .colab-df-convert {\n",
              "      background-color: #3B4455;\n",
              "      fill: #D2E3FC;\n",
              "    }\n",
              "\n",
              "    [theme=dark] .colab-df-convert:hover {\n",
              "      background-color: #434B5C;\n",
              "      box-shadow: 0px 1px 3px 1px rgba(0, 0, 0, 0.15);\n",
              "      filter: drop-shadow(0px 1px 2px rgba(0, 0, 0, 0.3));\n",
              "      fill: #FFFFFF;\n",
              "    }\n",
              "  </style>\n",
              "\n",
              "    <script>\n",
              "      const buttonEl =\n",
              "        document.querySelector('#df-29a247b3-f421-4652-8972-d1d805e7f5a8 button.colab-df-convert');\n",
              "      buttonEl.style.display =\n",
              "        google.colab.kernel.accessAllowed ? 'block' : 'none';\n",
              "\n",
              "      async function convertToInteractive(key) {\n",
              "        const element = document.querySelector('#df-29a247b3-f421-4652-8972-d1d805e7f5a8');\n",
              "        const dataTable =\n",
              "          await google.colab.kernel.invokeFunction('convertToInteractive',\n",
              "                                                    [key], {});\n",
              "        if (!dataTable) return;\n",
              "\n",
              "        const docLinkHtml = 'Like what you see? Visit the ' +\n",
              "          '<a target=\"_blank\" href=https://colab.research.google.com/notebooks/data_table.ipynb>data table notebook</a>'\n",
              "          + ' to learn more about interactive tables.';\n",
              "        element.innerHTML = '';\n",
              "        dataTable['output_type'] = 'display_data';\n",
              "        await google.colab.output.renderOutput(dataTable, element);\n",
              "        const docLink = document.createElement('div');\n",
              "        docLink.innerHTML = docLinkHtml;\n",
              "        element.appendChild(docLink);\n",
              "      }\n",
              "    </script>\n",
              "  </div>\n",
              "\n",
              "\n",
              "<div id=\"df-d3ae241d-8eea-452d-94fa-f6adadfc5496\">\n",
              "  <button class=\"colab-df-quickchart\" onclick=\"quickchart('df-d3ae241d-8eea-452d-94fa-f6adadfc5496')\"\n",
              "            title=\"Suggest charts\"\n",
              "            style=\"display:none;\">\n",
              "\n",
              "<svg xmlns=\"http://www.w3.org/2000/svg\" height=\"24px\"viewBox=\"0 0 24 24\"\n",
              "     width=\"24px\">\n",
              "    <g>\n",
              "        <path d=\"M19 3H5c-1.1 0-2 .9-2 2v14c0 1.1.9 2 2 2h14c1.1 0 2-.9 2-2V5c0-1.1-.9-2-2-2zM9 17H7v-7h2v7zm4 0h-2V7h2v10zm4 0h-2v-4h2v4z\"/>\n",
              "    </g>\n",
              "</svg>\n",
              "  </button>\n",
              "\n",
              "<style>\n",
              "  .colab-df-quickchart {\n",
              "      --bg-color: #E8F0FE;\n",
              "      --fill-color: #1967D2;\n",
              "      --hover-bg-color: #E2EBFA;\n",
              "      --hover-fill-color: #174EA6;\n",
              "      --disabled-fill-color: #AAA;\n",
              "      --disabled-bg-color: #DDD;\n",
              "  }\n",
              "\n",
              "  [theme=dark] .colab-df-quickchart {\n",
              "      --bg-color: #3B4455;\n",
              "      --fill-color: #D2E3FC;\n",
              "      --hover-bg-color: #434B5C;\n",
              "      --hover-fill-color: #FFFFFF;\n",
              "      --disabled-bg-color: #3B4455;\n",
              "      --disabled-fill-color: #666;\n",
              "  }\n",
              "\n",
              "  .colab-df-quickchart {\n",
              "    background-color: var(--bg-color);\n",
              "    border: none;\n",
              "    border-radius: 50%;\n",
              "    cursor: pointer;\n",
              "    display: none;\n",
              "    fill: var(--fill-color);\n",
              "    height: 32px;\n",
              "    padding: 0;\n",
              "    width: 32px;\n",
              "  }\n",
              "\n",
              "  .colab-df-quickchart:hover {\n",
              "    background-color: var(--hover-bg-color);\n",
              "    box-shadow: 0 1px 2px rgba(60, 64, 67, 0.3), 0 1px 3px 1px rgba(60, 64, 67, 0.15);\n",
              "    fill: var(--button-hover-fill-color);\n",
              "  }\n",
              "\n",
              "  .colab-df-quickchart-complete:disabled,\n",
              "  .colab-df-quickchart-complete:disabled:hover {\n",
              "    background-color: var(--disabled-bg-color);\n",
              "    fill: var(--disabled-fill-color);\n",
              "    box-shadow: none;\n",
              "  }\n",
              "\n",
              "  .colab-df-spinner {\n",
              "    border: 2px solid var(--fill-color);\n",
              "    border-color: transparent;\n",
              "    border-bottom-color: var(--fill-color);\n",
              "    animation:\n",
              "      spin 1s steps(1) infinite;\n",
              "  }\n",
              "\n",
              "  @keyframes spin {\n",
              "    0% {\n",
              "      border-color: transparent;\n",
              "      border-bottom-color: var(--fill-color);\n",
              "      border-left-color: var(--fill-color);\n",
              "    }\n",
              "    20% {\n",
              "      border-color: transparent;\n",
              "      border-left-color: var(--fill-color);\n",
              "      border-top-color: var(--fill-color);\n",
              "    }\n",
              "    30% {\n",
              "      border-color: transparent;\n",
              "      border-left-color: var(--fill-color);\n",
              "      border-top-color: var(--fill-color);\n",
              "      border-right-color: var(--fill-color);\n",
              "    }\n",
              "    40% {\n",
              "      border-color: transparent;\n",
              "      border-right-color: var(--fill-color);\n",
              "      border-top-color: var(--fill-color);\n",
              "    }\n",
              "    60% {\n",
              "      border-color: transparent;\n",
              "      border-right-color: var(--fill-color);\n",
              "    }\n",
              "    80% {\n",
              "      border-color: transparent;\n",
              "      border-right-color: var(--fill-color);\n",
              "      border-bottom-color: var(--fill-color);\n",
              "    }\n",
              "    90% {\n",
              "      border-color: transparent;\n",
              "      border-bottom-color: var(--fill-color);\n",
              "    }\n",
              "  }\n",
              "</style>\n",
              "\n",
              "  <script>\n",
              "    async function quickchart(key) {\n",
              "      const quickchartButtonEl =\n",
              "        document.querySelector('#' + key + ' button');\n",
              "      quickchartButtonEl.disabled = true;  // To prevent multiple clicks.\n",
              "      quickchartButtonEl.classList.add('colab-df-spinner');\n",
              "      try {\n",
              "        const charts = await google.colab.kernel.invokeFunction(\n",
              "            'suggestCharts', [key], {});\n",
              "      } catch (error) {\n",
              "        console.error('Error during call to suggestCharts:', error);\n",
              "      }\n",
              "      quickchartButtonEl.classList.remove('colab-df-spinner');\n",
              "      quickchartButtonEl.classList.add('colab-df-quickchart-complete');\n",
              "    }\n",
              "    (() => {\n",
              "      let quickchartButtonEl =\n",
              "        document.querySelector('#df-d3ae241d-8eea-452d-94fa-f6adadfc5496 button');\n",
              "      quickchartButtonEl.style.display =\n",
              "        google.colab.kernel.accessAllowed ? 'block' : 'none';\n",
              "    })();\n",
              "  </script>\n",
              "</div>\n",
              "\n",
              "    </div>\n",
              "  </div>\n"
            ],
            "application/vnd.google.colaboratory.intrinsic+json": {
              "type": "dataframe",
              "variable_name": "df",
              "summary": "{\n  \"name\": \"df\",\n  \"rows\": 700,\n  \"fields\": [\n    {\n      \"column\": \"Lyric\",\n      \"properties\": {\n        \"dtype\": \"string\",\n        \"num_unique_values\": 696,\n        \"samples\": [\n          \"Me deixou em casa e foi passear,\\nChegou de manh\\u00e3 e ainda pediu ch\\u00e1,\\nPediu carinho e eu at\\u00e9 tentei,\\nMas tava um cheiro de mentira.\\n\\nMe deixou em casa e foi passear,\\nChegou de manh\\u00e3 e ainda pediu ch\\u00e1,\\nPediu carinho e eu at\\u00e9 tentei,\\nMas tava um cheiro de mentira.\\n\\n\\nMe desiludi, porque voc\\u00ea me trata assim ? Se eu vejo tudo e finjo n\\u00e3o perceber\\nMas meu cora\\u00e7\\u00e3o, sente a sua aus\\u00eancia, e bate t\\u00e3o forte que chega \\u00e0 doer.\\nMesmo que te ausentes, aos cuidados desse amor, insisto no que a gente combinou.\\n\\n\\u00f4\\u00f4\\u00f4\\u00f4, \\u00e9 t\\u00e3o f\\u00e1cil compreender,\\neu fico feliz de feliz te ver.\\n\\npapaparar\\u00e1, papaparar\\u00e1, papapararar\\u00e1, papaparararar\\u00e1.\\n\\n\\n- @peo67\",\n          \"Um c\\u00e9u sem estrela, uma praia sem mar\\nUm amor sem carinho, um romance sem par\\nCarnaval sem festa, um jardim sem flor\\n\\u00c9 assim que eu me sinto longe do seu amor!\\nComo enganar um cora\\u00e7\\u00e3o t\\u00e3o ligado nesse amor?\\nComo viver a minha vida sem teu jeito sedutor?\\nN\\u00e3o d\\u00e1 mais pra segurar\\nT\\u00f4 viciado em voc\\u00ea!\\n\\nN\\u00e3o d\\u00e1... , n\\u00e3o d\\u00e1... , pra ficar... , pra ficar sem te ver\\nJ\\u00e1 estou ficando louco\\nN\\u00e3o d\\u00e1... , n\\u00e3o d\\u00e1... , pra ficar... , pra ficar sem te ver\\nSou 100 voc\\u00ea!\\n\\nL\\u00ea l\\u00ea l\\u00ea l\\u00ea l\\u00ea l\\u00ea l\\u00ea l\\u00ea\\nL\\u00ea l\\u00ea l\\u00ea l\\u00ea l\\u00ea l\\u00ea l\\u00ea l\\u00ea\\n\\nEstrada sem rumo, saudade sem dor\\nTv sem novela, arco \\u00edris sem cor\\nChiclete sem nana, ver\\u00e3o sem calor\\n\\u00c9 assim que eu me sinto longe do seu amor\\nComo enganar um cora\\u00e7\\u00e3o tao ligado nesse amor?\\nComo viver a minha vida sem teu jeito sedutor?\\nN\\u00e3o d\\u00e1 mais pra segurar\\nT\\u00f4 viciado em voc\\u00ea!\\n\\nN\\u00e3o d\\u00e1... , n\\u00e3o d\\u00e1... , pra ficar... , pra ficar sem te ver\\nJ\\u00e1 estou ficando louco\\nN\\u00e3o d\\u00e1... , n\\u00e3o d\\u00e1... , pra ficar... , pra ficar sem te ver\\nSou 100 voc\\u00ea!\\n\\nL\\u00ea l\\u00ea l\\u00ea l\\u00ea l\\u00ea l\\u00ea\",\n          \"Eu prometi\\nTe dar um novo c\\u00e9u\\nUm universo s\\u00f3 seu\\nE uma can\\u00e7\\u00e3o que fa\\u00e7a refletir\\nEstrelas nos teus olhos\\nE o cora\\u00e7\\u00e3o se encheu de luz\\nSorriu em paz\\nE foi alem de todo mal\\nQue agora se disfez.\\n\\nLaia laia laia laia\\nLaia laia laia laia\\nLaia laia.\\n\\nEu prometi\\nTe dar um novo c\\u00e9u\\nUm universo s\\u00f3 seu\\nE uma can\\u00e7\\u00e3o que fa\\u00e7a refletir\\nEstrelas nos teus olhos\\nE o cora\\u00e7\\u00e3o se encheu de luz\\nSorriu em paz\\nE foi alem de todo mal\\nQue agora se disfez.\\n\\nLaia laia laia laia\\nLaia laia laia laia\\nLaia laia.\\n\\nTodo mal agora se disfez...\"\n        ],\n        \"semantic_type\": \"\",\n        \"description\": \"\"\n      }\n    },\n    {\n      \"column\": \"language\",\n      \"properties\": {\n        \"dtype\": \"category\",\n        \"num_unique_values\": 3,\n        \"samples\": [\n          \"pt\",\n          \"es\",\n          \"en\"\n        ],\n        \"semantic_type\": \"\",\n        \"description\": \"\"\n      }\n    },\n    {\n      \"column\": \"Number_of_words\",\n      \"properties\": {\n        \"dtype\": \"number\",\n        \"std\": 82,\n        \"min\": 1,\n        \"max\": 580,\n        \"num_unique_values\": 244,\n        \"samples\": [\n          136,\n          396,\n          203\n        ],\n        \"semantic_type\": \"\",\n        \"description\": \"\"\n      }\n    }\n  ]\n}"
            }
          },
          "metadata": {},
          "execution_count": 10
        }
      ],
      "source": [
        "df['Number_of_words'] = df['Lyric'].apply(lambda x:len(str(x).split()))\n",
        "df.head()"
      ]
    },
    {
      "cell_type": "code",
      "execution_count": 11,
      "metadata": {
        "execution": {
          "iopub.execute_input": "2021-02-15T05:03:20.071476Z",
          "iopub.status.busy": "2021-02-15T05:03:20.070422Z",
          "iopub.status.idle": "2021-02-15T05:03:20.079512Z",
          "shell.execute_reply": "2021-02-15T05:03:20.079000Z"
        },
        "papermill": {
          "duration": 0.032856,
          "end_time": "2021-02-15T05:03:20.079612",
          "exception": false,
          "start_time": "2021-02-15T05:03:20.046756",
          "status": "completed"
        },
        "tags": [],
        "id": "uUoQzqyeTfK-",
        "colab": {
          "base_uri": "https://localhost:8080/"
        },
        "outputId": "799b8af2-d478-4975-d676-adf131f74e6c"
      },
      "outputs": [
        {
          "output_type": "execute_result",
          "data": {
            "text/plain": [
              "count    700.000000\n",
              "mean     143.174286\n",
              "std       82.766807\n",
              "min        1.000000\n",
              "25%       90.000000\n",
              "50%      112.500000\n",
              "75%      179.000000\n",
              "max      580.000000\n",
              "Name: Number_of_words, dtype: float64"
            ]
          },
          "metadata": {},
          "execution_count": 11
        }
      ],
      "source": [
        "# statistical info\n",
        "df['Number_of_words'].describe()"
      ]
    },
    {
      "cell_type": "markdown",
      "metadata": {
        "papermill": {
          "duration": 0.020741,
          "end_time": "2021-02-15T05:03:20.162771",
          "exception": false,
          "start_time": "2021-02-15T05:03:20.142030",
          "status": "completed"
        },
        "tags": [],
        "id": "fW8NQXHrTfK-"
      },
      "source": [
        "### Frequency distribution of number of words"
      ]
    },
    {
      "cell_type": "code",
      "execution_count": 12,
      "metadata": {
        "execution": {
          "iopub.execute_input": "2021-02-15T05:03:20.217243Z",
          "iopub.status.busy": "2021-02-15T05:03:20.216567Z",
          "iopub.status.idle": "2021-02-15T05:03:20.672568Z",
          "shell.execute_reply": "2021-02-15T05:03:20.672986Z"
        },
        "papermill": {
          "duration": 0.482393,
          "end_time": "2021-02-15T05:03:20.673133",
          "exception": false,
          "start_time": "2021-02-15T05:03:20.190740",
          "status": "completed"
        },
        "tags": [],
        "id": "XcDyiRxzTfK-",
        "colab": {
          "base_uri": "https://localhost:8080/",
          "height": 784
        },
        "outputId": "224d6fb0-af3e-42fc-cb6f-c811c2e44685"
      },
      "outputs": [
        {
          "output_type": "stream",
          "name": "stderr",
          "text": [
            "<ipython-input-12-8b69dec7c5b1>:4: UserWarning: \n",
            "\n",
            "`distplot` is a deprecated function and will be removed in seaborn v0.14.0.\n",
            "\n",
            "Please adapt your code to use either `displot` (a figure-level function with\n",
            "similar flexibility) or `histplot` (an axes-level function for histograms).\n",
            "\n",
            "For a guide to updating your code to use the new functions, please see\n",
            "https://gist.github.com/mwaskom/de44147ed2974457ad6372750bbe5751\n",
            "\n",
            "  sns.distplot(df['Number_of_words'],kde = False,color=\"red\",bins=200)\n"
          ]
        },
        {
          "output_type": "execute_result",
          "data": {
            "text/plain": [
              "Text(0.5, 1.0, 'Frequency distribution of number of words for each text extracted')"
            ]
          },
          "metadata": {},
          "execution_count": 12
        },
        {
          "output_type": "display_data",
          "data": {
            "text/plain": [
              "<Figure size 1200x600 with 1 Axes>"
            ],
            "image/png": "[encoded data removed]"
          },
          "metadata": {}
        }
      ],
      "source": [
        "import matplotlib.pyplot as plt\n",
        "plt.style.use('ggplot')\n",
        "plt.figure(figsize=(12,6))\n",
        "sns.distplot(df['Number_of_words'],kde = False,color=\"red\",bins=200)\n",
        "plt.title(\"Frequency distribution of number of words for each text extracted\", size=20)"
      ]
    },
    {
      "cell_type": "markdown",
      "metadata": {
        "papermill": {
          "duration": 0.022285,
          "end_time": "2021-02-15T05:03:20.718116",
          "exception": false,
          "start_time": "2021-02-15T05:03:20.695831",
          "status": "completed"
        },
        "tags": [],
        "id": "nRpY3O_YTfK-"
      },
      "source": [
        "# Data Preprocessing"
      ]
    },
    {
      "cell_type": "code",
      "execution_count": 13,
      "metadata": {
        "execution": {
          "iopub.execute_input": "2021-02-15T05:03:20.835726Z",
          "iopub.status.busy": "2021-02-15T05:03:20.825109Z",
          "iopub.status.idle": "2021-02-15T05:03:21.029127Z",
          "shell.execute_reply": "2021-02-15T05:03:21.029539Z"
        },
        "papermill": {
          "duration": 0.243604,
          "end_time": "2021-02-15T05:03:21.029673",
          "exception": false,
          "start_time": "2021-02-15T05:03:20.786069",
          "status": "completed"
        },
        "tags": [],
        "id": "kDx_Cmd7TfK-",
        "colab": {
          "base_uri": "https://localhost:8080/"
        },
        "outputId": "b15a76b8-f020-4ca3-9c82-d91b4a1977df"
      },
      "outputs": [
        {
          "output_type": "execute_result",
          "data": {
            "text/plain": [
              "[39,\n",
              " 3,\n",
              " 1,\n",
              " 2,\n",
              " 23,\n",
              " 193,\n",
              " 46,\n",
              " 72,\n",
              " 46,\n",
              " 8,\n",
              " 8,\n",
              " 40,\n",
              " 7,\n",
              " 40,\n",
              " 7,\n",
              " 3,\n",
              " 24,\n",
              " 12,\n",
              " 8,\n",
              " 45,\n",
              " 55,\n",
              " 256,\n",
              " 1024,\n",
              " 846,\n",
              " 4,\n",
              " 142,\n",
              " 4,\n",
              " 142,\n",
              " 2,\n",
              " 51,\n",
              " 640,\n",
              " 22,\n",
              " 162,\n",
              " 1,\n",
              " 10,\n",
              " 20,\n",
              " 13,\n",
              " 217,\n",
              " 20,\n",
              " 13,\n",
              " 177,\n",
              " 11,\n",
              " 157,\n",
              " 239,\n",
              " 414,\n",
              " 287,\n",
              " 51,\n",
              " 509,\n",
              " 4,\n",
              " 39,\n",
              " 11,\n",
              " 10,\n",
              " 13,\n",
              " 258,\n",
              " 476,\n",
              " 16,\n",
              " 537,\n",
              " 16,\n",
              " 538,\n",
              " 16,\n",
              " 186,\n",
              " 22,\n",
              " 7,\n",
              " 476,\n",
              " 16,\n",
              " 537,\n",
              " 16,\n",
              " 538,\n",
              " 16,\n",
              " 186,\n",
              " 22,\n",
              " 7,\n",
              " 306,\n",
              " 306,\n",
              " 306,\n",
              " 306,\n",
              " 306,\n",
              " 11,\n",
              " 99,\n",
              " 213,\n",
              " 213,\n",
              " 213,\n",
              " 148,\n",
              " 17,\n",
              " 148,\n",
              " 17,\n",
              " 21,\n",
              " 370]"
            ]
          },
          "metadata": {},
          "execution_count": 13
        }
      ],
      "source": [
        "# Tokenization\n",
        "tokenizer = Tokenizer()\n",
        "tokenizer.fit_on_texts(df['Lyric'].astype(str).str.lower())\n",
        "\n",
        "total_words = len(tokenizer.word_index)+1\n",
        "tokenized_sentences = tokenizer.texts_to_sequences(df['Lyric'].astype(str))\n",
        "tokenized_sentences[0]"
      ]
    },
    {
      "cell_type": "code",
      "execution_count": 14,
      "metadata": {
        "execution": {
          "iopub.execute_input": "2021-02-15T05:03:21.255398Z",
          "iopub.status.busy": "2021-02-15T05:03:21.088765Z",
          "iopub.status.idle": "2021-02-15T05:03:27.843109Z",
          "shell.execute_reply": "2021-02-15T05:03:27.842044Z"
        },
        "papermill": {
          "duration": 6.790078,
          "end_time": "2021-02-15T05:03:27.843256",
          "exception": false,
          "start_time": "2021-02-15T05:03:21.053178",
          "status": "completed"
        },
        "tags": [],
        "id": "T7LWapO9TfK-"
      },
      "outputs": [],
      "source": [
        "# Slash sequences into n gram sequence\n",
        "input_sequences = list()\n",
        "for i in tokenized_sentences:\n",
        "    for t in range(1, len(i)):\n",
        "        n_gram_sequence = i[:t+1]\n",
        "        input_sequences.append(n_gram_sequence)\n",
        "\n",
        "# Pre padding\n",
        "max_sequence_len = max([len(x) for x in input_sequences])\n",
        "input_sequences = np.array(pad_sequences(input_sequences, maxlen=max_sequence_len, padding='pre'))"
      ]
    },
    {
      "cell_type": "code",
      "execution_count": 15,
      "metadata": {
        "execution": {
          "iopub.execute_input": "2021-02-15T05:03:27.896939Z",
          "iopub.status.busy": "2021-02-15T05:03:27.896155Z",
          "iopub.status.idle": "2021-02-15T05:03:27.899853Z",
          "shell.execute_reply": "2021-02-15T05:03:27.899417Z"
        },
        "papermill": {
          "duration": 0.03327,
          "end_time": "2021-02-15T05:03:27.899959",
          "exception": false,
          "start_time": "2021-02-15T05:03:27.866689",
          "status": "completed"
        },
        "tags": [],
        "id": "VoKoXoQnTfK-",
        "colab": {
          "base_uri": "https://localhost:8080/"
        },
        "outputId": "2e1d678b-d035-42ec-8246-674eb824d4e8"
      },
      "outputs": [
        {
          "output_type": "execute_result",
          "data": {
            "text/plain": [
              "array([[ 0,  0,  0, ...,  0, 39,  3],\n",
              "       [ 0,  0,  0, ..., 39,  3,  1],\n",
              "       [ 0,  0,  0, ...,  3,  1,  2],\n",
              "       ...,\n",
              "       [ 0,  0,  0, ..., 46, 72, 46],\n",
              "       [ 0,  0,  0, ..., 72, 46,  8],\n",
              "       [ 0,  0,  0, ..., 46,  8,  8]], dtype=int32)"
            ]
          },
          "metadata": {},
          "execution_count": 15
        }
      ],
      "source": [
        "input_sequences[:10]"
      ]
    },
    {
      "cell_type": "code",
      "execution_count": 16,
      "metadata": {
        "execution": {
          "iopub.execute_input": "2021-02-15T05:03:27.998226Z",
          "iopub.status.busy": "2021-02-15T05:03:27.997253Z",
          "iopub.status.idle": "2021-02-15T05:03:28.339712Z",
          "shell.execute_reply": "2021-02-15T05:03:28.339199Z"
        },
        "papermill": {
          "duration": 0.369955,
          "end_time": "2021-02-15T05:03:28.339838",
          "exception": false,
          "start_time": "2021-02-15T05:03:27.969883",
          "status": "completed"
        },
        "tags": [],
        "id": "eo3cCRaCTfK-"
      },
      "outputs": [],
      "source": [
        "# create predictors and label\n",
        "X, labels = input_sequences[:,:-1],input_sequences[:,-1]\n",
        "y = tf.keras.utils.to_categorical(labels, num_classes=total_words)"
      ]
    },
    {
      "cell_type": "markdown",
      "metadata": {
        "papermill": {
          "duration": 0.023492,
          "end_time": "2021-02-15T05:03:28.387737",
          "exception": false,
          "start_time": "2021-02-15T05:03:28.364245",
          "status": "completed"
        },
        "tags": [],
        "id": "MtXgqC3LTfK_"
      },
      "source": [
        "# Model"
      ]
    },
    {
      "cell_type": "code",
      "execution_count": 17,
      "metadata": {
        "execution": {
          "iopub.execute_input": "2021-02-15T05:03:28.487798Z",
          "iopub.status.busy": "2021-02-15T05:03:28.487081Z",
          "iopub.status.idle": "2021-02-15T06:51:31.960999Z",
          "shell.execute_reply": "2021-02-15T06:51:31.961481Z"
        },
        "papermill": {
          "duration": 6483.50384,
          "end_time": "2021-02-15T06:51:31.961638",
          "exception": false,
          "start_time": "2021-02-15T05:03:28.457798",
          "status": "completed"
        },
        "tags": [],
        "id": "AqhAax_ETfK_",
        "colab": {
          "base_uri": "https://localhost:8080/"
        },
        "outputId": "807a3357-f15b-4809-9136-9e5e67257540"
      },
      "outputs": [
        {
          "output_type": "stream",
          "name": "stdout",
          "text": [
            "Epoch 1/10\n",
            "3121/3121 [==============================] - 271s 85ms/step - loss: 6.2942 - accuracy: 0.0575\n",
            "Epoch 2/10\n",
            "3121/3121 [==============================] - 196s 63ms/step - loss: 5.3145 - accuracy: 0.1214\n",
            "Epoch 3/10\n",
            "3121/3121 [==============================] - 194s 62ms/step - loss: 4.5768 - accuracy: 0.1865\n",
            "Epoch 4/10\n",
            "3121/3121 [==============================] - 192s 62ms/step - loss: 3.9343 - accuracy: 0.2583\n",
            "Epoch 5/10\n",
            "3121/3121 [==============================] - 193s 62ms/step - loss: 3.4162 - accuracy: 0.3253\n",
            "Epoch 6/10\n",
            "3121/3121 [==============================] - 191s 61ms/step - loss: 2.9914 - accuracy: 0.3876\n",
            "Epoch 7/10\n",
            "3121/3121 [==============================] - 191s 61ms/step - loss: 2.6504 - accuracy: 0.4434\n",
            "Epoch 8/10\n",
            "3121/3121 [==============================] - 191s 61ms/step - loss: 2.3676 - accuracy: 0.4935\n",
            "Epoch 9/10\n",
            "3121/3121 [==============================] - 188s 60ms/step - loss: 2.1390 - accuracy: 0.5325\n",
            "Epoch 10/10\n",
            "3121/3121 [==============================] - 189s 61ms/step - loss: 1.9542 - accuracy: 0.5660\n"
          ]
        }
      ],
      "source": [
        "# create model\n",
        "model = Sequential()\n",
        "model.add(Embedding(total_words, 40, input_length=max_sequence_len-1))\n",
        "model.add(Bidirectional(LSTM(250)))\n",
        "model.add(Dropout(0.1))\n",
        "model.add(Dense(total_words, activation='softmax'))\n",
        "model.compile(loss='categorical_crossentropy', optimizer='adam', metrics=['accuracy'])\n",
        "earlystop = EarlyStopping(monitor='loss', min_delta=0, patience=3, verbose=0, mode='auto')\n",
        "history = model.fit(X, y, epochs=10, verbose=1, callbacks=[earlystop])"
      ]
    },
    {
      "cell_type": "markdown",
      "metadata": {
        "papermill": {
          "duration": 14.73282,
          "end_time": "2021-02-15T06:52:01.068159",
          "exception": false,
          "start_time": "2021-02-15T06:51:46.335339",
          "status": "completed"
        },
        "tags": [],
        "id": "QV6KcEA6TfK_"
      },
      "source": [
        "Increase the epochs to increase the accuracy.I haven't done that because it is taking a very long time"
      ]
    },
    {
      "cell_type": "code",
      "execution_count": 18,
      "metadata": {
        "execution": {
          "iopub.execute_input": "2021-02-15T06:52:30.379828Z",
          "iopub.status.busy": "2021-02-15T06:52:30.378415Z",
          "iopub.status.idle": "2021-02-15T06:52:30.499105Z",
          "shell.execute_reply": "2021-02-15T06:52:30.498662Z"
        },
        "papermill": {
          "duration": 15.152805,
          "end_time": "2021-02-15T06:52:30.499220",
          "exception": false,
          "start_time": "2021-02-15T06:52:15.346415",
          "status": "completed"
        },
        "tags": [],
        "id": "9cppDQhgTfK_",
        "colab": {
          "base_uri": "https://localhost:8080/",
          "height": 447
        },
        "outputId": "81e86b6f-1da3-46bb-99fa-f0be5953ed29"
      },
      "outputs": [
        {
          "output_type": "display_data",
          "data": {
            "text/plain": [
              "<Figure size 640x480 with 1 Axes>"
            ],
            "image/png": "[encoded data removed]"
          },
          "metadata": {}
        },
        {
          "output_type": "display_data",
          "data": {
            "text/plain": [
              "<Figure size 640x480 with 0 Axes>"
            ]
          },
          "metadata": {}
        }
      ],
      "source": [
        "# plot the accuracy\n",
        "plt.plot(history.history['accuracy'], label='train acc')\n",
        "plt.legend()\n",
        "plt.show()\n",
        "plt.savefig('AccVal_acc')"
      ]
    },
    {
      "cell_type": "markdown",
      "metadata": {
        "papermill": {
          "duration": 14.702692,
          "end_time": "2021-02-15T06:52:59.833767",
          "exception": false,
          "start_time": "2021-02-15T06:52:45.131075",
          "status": "completed"
        },
        "tags": [],
        "id": "izZsIx4eTfK_"
      },
      "source": [
        "# Generate new song lyrics"
      ]
    },
    {
      "cell_type": "code",
      "execution_count": 32,
      "metadata": {
        "execution": {
          "iopub.execute_input": "2021-02-15T06:53:57.743885Z",
          "iopub.status.busy": "2021-02-15T06:53:57.743152Z",
          "iopub.status.idle": "2021-02-15T06:53:57.745455Z",
          "shell.execute_reply": "2021-02-15T06:53:57.745946Z"
        },
        "papermill": {
          "duration": 14.363407,
          "end_time": "2021-02-15T06:53:57.746095",
          "exception": false,
          "start_time": "2021-02-15T06:53:43.382688",
          "status": "completed"
        },
        "tags": [],
        "id": "89txBy5HTfK_"
      },
      "outputs": [],
      "source": [
        "# def complete_this_song(seed_text, next_words):\n",
        "#     for _ in range(next_words):\n",
        "#         token_list = tokenizer.texts_to_sequences([seed_text])[0]\n",
        "#         token_list = pad_sequences([token_list], maxlen=max_sequence_len-1, padding='pre')\n",
        "#         predicted = model.predict(token_list, verbose=0)\n",
        "\n",
        "#         predicted_index = np.argmax(predicted)\n",
        "\n",
        "#         output_word = \"\"\n",
        "#         for word, index in tokenizer.word_index.items():\n",
        "#             if index == predicted_index:\n",
        "#                 output_word = word\n",
        "#                 break\n",
        "#         seed_text += \" \" + output_word\n",
        "#     return seed_text"
      ]
    },
    {
      "cell_type": "code",
      "source": [
        "import random\n",
        "\n",
        "def complete_this_song(seed_text, next_words, temperature=1.0):\n",
        "    completed_song = seed_text\n",
        "    for _ in range(next_words):\n",
        "        token_list = tokenizer.texts_to_sequences([seed_text])[0]\n",
        "        token_list = pad_sequences([token_list], maxlen=max_sequence_len-1, padding='pre')\n",
        "        predicted = model.predict(token_list, verbose=0)[0]\n",
        "\n",
        "        # Adjust the temperature of the predictions\n",
        "        predicted = np.log(predicted) / temperature\n",
        "        exp_predicted = np.exp(predicted)\n",
        "        predicted = exp_predicted / np.sum(exp_predicted)\n",
        "\n",
        "        # Sample from the probability distribution\n",
        "        predicted_index = np.random.choice(len(predicted), p=predicted)\n",
        "\n",
        "        output_word = \"\"\n",
        "        for word, index in tokenizer.word_index.items():\n",
        "            if index == predicted_index:\n",
        "                output_word = word\n",
        "                break\n",
        "        seed_text += \" \" + output_word\n",
        "        completed_song += \" \" + output_word\n",
        "    return completed_song\n",
        "\n",
        "completed_song = complete_this_song(\"this is the beginning\", 140, temperature=0.5)\n",
        "print(completed_song)"
      ],
      "metadata": {
        "colab": {
          "base_uri": "https://localhost:8080/"
        },
        "id": "44TNuE29GjAo",
        "outputId": "bcb4a41a-a345-4bf2-9016-a146591973a1"
      },
      "execution_count": 36,
      "outputs": [
        {
          "output_type": "stream",
          "name": "stdout",
          "text": [
            "this is the beginning how let a one if i'm love it's true to see that it love you and be say that you need you that you need i don't believe in many things but in you i don't believe in many things but you that you don't know that it gets to all that you i don't believe in many things but in you i don't believe when i don't believe in many things but in you i don't believe in many things but in you i don't believe in it all that it gets to you i don't believe in many things but in you i don't believe in many things but in you i don't believe in many things but in you i don't believe in many things but in you i don't believe in many things but in me\n"
          ]
        }
      ]
    },
    {
      "cell_type": "markdown",
      "metadata": {
        "papermill": {
          "duration": 14.080463,
          "end_time": "2021-02-15T06:54:26.620256",
          "exception": false,
          "start_time": "2021-02-15T06:54:12.539793",
          "status": "completed"
        },
        "tags": [],
        "id": "IW5ji48zTfK_"
      },
      "source": [
        "Our function is ready so are you ready to generate your own lyrics"
      ]
    },
    {
      "cell_type": "code",
      "execution_count": 33,
      "metadata": {
        "execution": {
          "iopub.execute_input": "2021-02-15T06:54:55.802641Z",
          "iopub.status.busy": "2021-02-15T06:54:55.802091Z",
          "iopub.status.idle": "2021-02-15T06:54:58.570527Z",
          "shell.execute_reply": "2021-02-15T06:54:58.569963Z"
        },
        "papermill": {
          "duration": 16.833152,
          "end_time": "2021-02-15T06:54:58.570667",
          "exception": false,
          "start_time": "2021-02-15T06:54:41.737515",
          "status": "completed"
        },
        "tags": [],
        "id": "9uM7tozqTfLA",
        "colab": {
          "base_uri": "https://localhost:8080/",
          "height": 53
        },
        "outputId": "35f180f7-b8e3-4deb-f1f2-efd50c978929"
      },
      "outputs": [
        {
          "output_type": "execute_result",
          "data": {
            "text/plain": [
              "\"the sky is blue in the world's full of problems they couldn't only only only only only only only only only only through through five for it aah for the things we'd just only just be right be be jammin' until the break of\""
            ],
            "application/vnd.google.colaboratory.intrinsic+json": {
              "type": "string"
            }
          },
          "metadata": {},
          "execution_count": 33
        }
      ],
      "source": [
        "complete_this_song(\"the sky is blue\", 40)"
      ]
    },
    {
      "cell_type": "code",
      "execution_count": 34,
      "metadata": {
        "execution": {
          "iopub.execute_input": "2021-02-15T06:55:27.704266Z",
          "iopub.status.busy": "2021-02-15T06:55:27.703368Z",
          "iopub.status.idle": "2021-02-15T06:55:35.383627Z",
          "shell.execute_reply": "2021-02-15T06:55:35.384671Z"
        },
        "papermill": {
          "duration": 22.007345,
          "end_time": "2021-02-15T06:55:35.385010",
          "exception": false,
          "start_time": "2021-02-15T06:55:13.377665",
          "status": "completed"
        },
        "tags": [],
        "id": "ZsdDBm-YTfLA",
        "colab": {
          "base_uri": "https://localhost:8080/",
          "height": 88
        },
        "outputId": "008be91c-c7ca-41d0-cbf0-eb7ae2de6516"
      },
      "outputs": [
        {
          "output_type": "execute_result",
          "data": {
            "text/plain": [
              "\"This is the beginning how i don't believe in many things but in you i don't don't believe in many things but in you i don't believe in many things but in you i don't believe in many things but in you i don't believe in many things but in you i don't believe in many things but in you i don't believe in many things but in you i don't believe in many things but in you i don't believe in many things but in you i don't believe in many things but in you i don't believe in many things but in you i don't believe in many things but in you i don't believe in many things but in you i don't believe in many things but in you i don't believe in many things but in you i don't believe\""
            ],
            "application/vnd.google.colaboratory.intrinsic+json": {
              "type": "string"
            }
          },
          "metadata": {},
          "execution_count": 34
        }
      ],
      "source": [
        "complete_this_song(\"This is the beginning\", 140)"
      ]
    },
    {
      "cell_type": "code",
      "execution_count": 35,
      "metadata": {
        "execution": {
          "iopub.execute_input": "2021-02-15T06:56:04.441533Z",
          "iopub.status.busy": "2021-02-15T06:56:04.440727Z",
          "iopub.status.idle": "2021-02-15T06:56:08.889452Z",
          "shell.execute_reply": "2021-02-15T06:56:08.888974Z"
        },
        "papermill": {
          "duration": 18.595482,
          "end_time": "2021-02-15T06:56:08.889583",
          "exception": false,
          "start_time": "2021-02-15T06:55:50.294101",
          "status": "completed"
        },
        "tags": [],
        "id": "L2GbcYNSTfLD",
        "colab": {
          "base_uri": "https://localhost:8080/",
          "height": 70
        },
        "outputId": "09504572-0f04-41fa-a537-e2cb33c6a0d7"
      },
      "outputs": [
        {
          "output_type": "execute_result",
          "data": {
            "text/plain": [
              "\"I am missing you and me all that you and me all we i'm easy like sunday morning yeah that's why i'm easy i'm easy like sunday morning whoa that's why i'm easy like sunday morning whoa that's why i'm easy i'm easy like sunday morning whoa that's why i'm easy i'm easy like sunday morning whoa that's why i'm easy i'm easy like sunday morning whoa that's why i'm easy i'm easy like sunday morning whoa that's why i'm easy i'm easy like\""
            ],
            "application/vnd.google.colaboratory.intrinsic+json": {
              "type": "string"
            }
          },
          "metadata": {},
          "execution_count": 35
        }
      ],
      "source": [
        "complete_this_song(\"I am missing you\", 80)"
      ]
    },
    {
      "cell_type": "markdown",
      "metadata": {
        "papermill": {
          "duration": 14.201535,
          "end_time": "2021-02-15T06:56:37.915636",
          "exception": false,
          "start_time": "2021-02-15T06:56:23.714101",
          "status": "completed"
        },
        "tags": [],
        "id": "RAYPsA3yTfLD"
      },
      "source": [
        "# Save the model"
      ]
    },
    {
      "cell_type": "code",
      "execution_count": null,
      "metadata": {
        "execution": {
          "iopub.execute_input": "2021-02-15T06:57:07.159729Z",
          "iopub.status.busy": "2021-02-15T06:57:07.159020Z",
          "iopub.status.idle": "2021-02-15T06:57:07.295534Z",
          "shell.execute_reply": "2021-02-15T06:57:07.294662Z"
        },
        "papermill": {
          "duration": 14.325748,
          "end_time": "2021-02-15T06:57:07.295674",
          "exception": false,
          "start_time": "2021-02-15T06:56:52.969926",
          "status": "completed"
        },
        "tags": [],
        "id": "kllApkrjTfLD"
      },
      "outputs": [],
      "source": [
        "# save model\n",
        "from tensorflow.keras.models import load_model\n",
        "model.save('song_lyrics_generator.h5')"
      ]
    },
    {
      "cell_type": "markdown",
      "metadata": {
        "papermill": {
          "duration": 14.646178,
          "end_time": "2021-02-15T06:57:36.539163",
          "exception": false,
          "start_time": "2021-02-15T06:57:21.892985",
          "status": "completed"
        },
        "tags": [],
        "id": "myqzRnweTfLE"
      },
      "source": [
        "**Well that's done, in future I am going to update this notebook after learning more about text generation and don't forget to upvote it if you like it**\n"
      ]
    },
    {
      "cell_type": "code",
      "source": [],
      "metadata": {
        "id": "djYUNyiSe255"
      },
      "execution_count": null,
      "outputs": []
    }
  ],
  "metadata": {
    "kernelspec": {
      "display_name": "Python 3",
      "name": "python3"
    },
    "language_info": {
      "codemirror_mode": {
        "name": "ipython",
        "version": 3
      },
      "file_extension": ".py",
      "mimetype": "text/x-python",
      "name": "python",
      "nbconvert_exporter": "python",
      "pygments_lexer": "ipython3",
      "version": "3.7.9"
    },
    "papermill": {
      "default_parameters": {},
      "duration": 6890.786487,
      "end_time": "2021-02-15T06:57:54.083462",
      "environment_variables": {},
      "exception": null,
      "input_path": "__notebook__.ipynb",
      "output_path": "__notebook__.ipynb",
      "parameters": {},
      "start_time": "2021-02-15T05:03:03.296975",
      "version": "2.2.2"
    },
    "colab": {
      "provenance": [],
      "gpuType": "T4"
    },
    "accelerator": "GPU"
  },
  "nbformat": 4,
  "nbformat_minor": 0
}